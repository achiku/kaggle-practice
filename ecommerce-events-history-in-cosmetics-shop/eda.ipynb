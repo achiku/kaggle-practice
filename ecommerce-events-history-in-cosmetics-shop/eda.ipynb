{
 "cells": [
  {
   "cell_type": "code",
   "execution_count": 2,
   "id": "38bbd9dd-d587-4ae4-b5dd-7b0ec0d1b16e",
   "metadata": {},
   "outputs": [],
   "source": [
    "import pandas as pd\n",
    "import numpy as np"
   ]
  },
  {
   "cell_type": "code",
   "execution_count": 9,
   "id": "789dbfaa-bab9-4666-86ee-c89fabb18f5a",
   "metadata": {},
   "outputs": [],
   "source": [
    "df_2020jan = pd.read_csv('./inputdata/2020-Jan.csv')\n",
    "df_2020jan = pd.read_csv('./inputdata/2020-Jan.csv')"
   ]
  },
  {
   "cell_type": "code",
   "execution_count": 13,
   "id": "f2191663-7a7c-4e56-aa65-5fabdbffdfea",
   "metadata": {},
   "outputs": [
    {
     "data": {
      "text/html": [
       "<div>\n",
       "<style scoped>\n",
       "    .dataframe tbody tr th:only-of-type {\n",
       "        vertical-align: middle;\n",
       "    }\n",
       "\n",
       "    .dataframe tbody tr th {\n",
       "        vertical-align: top;\n",
       "    }\n",
       "\n",
       "    .dataframe thead th {\n",
       "        text-align: right;\n",
       "    }\n",
       "</style>\n",
       "<table border=\"1\" class=\"dataframe\">\n",
       "  <thead>\n",
       "    <tr style=\"text-align: right;\">\n",
       "      <th></th>\n",
       "      <th>event_time</th>\n",
       "      <th>price</th>\n",
       "    </tr>\n",
       "    <tr>\n",
       "      <th>user_id</th>\n",
       "      <th></th>\n",
       "      <th></th>\n",
       "    </tr>\n",
       "  </thead>\n",
       "  <tbody>\n",
       "    <tr>\n",
       "      <th>46032705</th>\n",
       "      <td>2</td>\n",
       "      <td>49.93</td>\n",
       "    </tr>\n",
       "    <tr>\n",
       "      <th>63701865</th>\n",
       "      <td>2</td>\n",
       "      <td>97.11</td>\n",
       "    </tr>\n",
       "    <tr>\n",
       "      <th>75649789</th>\n",
       "      <td>2</td>\n",
       "      <td>45.45</td>\n",
       "    </tr>\n",
       "    <tr>\n",
       "      <th>83998413</th>\n",
       "      <td>2</td>\n",
       "      <td>92.35</td>\n",
       "    </tr>\n",
       "    <tr>\n",
       "      <th>91136858</th>\n",
       "      <td>3</td>\n",
       "      <td>93.22</td>\n",
       "    </tr>\n",
       "    <tr>\n",
       "      <th>...</th>\n",
       "      <td>...</td>\n",
       "      <td>...</td>\n",
       "    </tr>\n",
       "    <tr>\n",
       "      <th>608560820</th>\n",
       "      <td>2</td>\n",
       "      <td>31.89</td>\n",
       "    </tr>\n",
       "    <tr>\n",
       "      <th>608709524</th>\n",
       "      <td>2</td>\n",
       "      <td>76.36</td>\n",
       "    </tr>\n",
       "    <tr>\n",
       "      <th>608722043</th>\n",
       "      <td>2</td>\n",
       "      <td>7.94</td>\n",
       "    </tr>\n",
       "    <tr>\n",
       "      <th>608725139</th>\n",
       "      <td>3</td>\n",
       "      <td>14.48</td>\n",
       "    </tr>\n",
       "    <tr>\n",
       "      <th>608743401</th>\n",
       "      <td>2</td>\n",
       "      <td>24.77</td>\n",
       "    </tr>\n",
       "  </tbody>\n",
       "</table>\n",
       "<p>3576 rows × 2 columns</p>\n",
       "</div>"
      ],
      "text/plain": [
       "           event_time  price\n",
       "user_id                     \n",
       "46032705            2  49.93\n",
       "63701865            2  97.11\n",
       "75649789            2  45.45\n",
       "83998413            2  92.35\n",
       "91136858            3  93.22\n",
       "...               ...    ...\n",
       "608560820           2  31.89\n",
       "608709524           2  76.36\n",
       "608722043           2   7.94\n",
       "608725139           3  14.48\n",
       "608743401           2  24.77\n",
       "\n",
       "[3576 rows x 2 columns]"
      ]
     },
     "execution_count": 13,
     "metadata": {},
     "output_type": "execute_result"
    }
   ],
   "source": [
    "df.query('event_type == \"purchase\"').groupby('user_id').agg({\n",
    "    'event_time': 'nunique',\n",
    "    'price': 'sum',\n",
    "}).query('event_time >= 2')"
   ]
  }
 ],
 "metadata": {
  "kernelspec": {
   "display_name": "Python 3",
   "language": "python",
   "name": "python3"
  },
  "language_info": {
   "codemirror_mode": {
    "name": "ipython",
    "version": 3
   },
   "file_extension": ".py",
   "mimetype": "text/x-python",
   "name": "python",
   "nbconvert_exporter": "python",
   "pygments_lexer": "ipython3",
   "version": "3.9.5"
  }
 },
 "nbformat": 4,
 "nbformat_minor": 5
}
