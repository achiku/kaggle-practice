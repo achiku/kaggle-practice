{
 "cells": [
  {
   "cell_type": "code",
   "execution_count": 1,
   "id": "13fe76d8-9599-4eeb-9185-830e11f5d068",
   "metadata": {},
   "outputs": [],
   "source": [
    "import pandas as pd\n",
    "import numpy as np\n",
    "import seaborn as sn\n",
    "import matplotlib.pyplot as plt\n",
    "%matplotlib inline"
   ]
  },
  {
   "cell_type": "code",
   "execution_count": 2,
   "id": "530330e3-293a-4b5c-bd89-8243e3fbfc65",
   "metadata": {},
   "outputs": [],
   "source": [
    "train_org_df = pd.read_csv('./inputdata/train.csv')\n",
    "test_org_df = pd.read_csv('./inputdata/test.csv')"
   ]
  },
  {
   "cell_type": "code",
   "execution_count": 3,
   "id": "330b8fde-ddf0-41d0-8905-3a99e5dd3eb6",
   "metadata": {},
   "outputs": [],
   "source": [
    "train_df = train_org_df.copy()\n",
    "test_df = test_org_df.copy()"
   ]
  },
  {
   "cell_type": "code",
   "execution_count": 4,
   "id": "d4b61ee4-7913-4f0a-9c7f-7698e72b222d",
   "metadata": {},
   "outputs": [],
   "source": [
    "pd.set_option('display.max_columns', 50)"
   ]
  },
  {
   "cell_type": "markdown",
   "id": "0a492e6c-c39c-4fd9-8f5f-0ea954d2f8c3",
   "metadata": {},
   "source": [
    "## Data definitions\n",
    "\n",
    "- survival\tSurvival\t0 = No, 1 = Yes\n",
    "- pclass\tTicket class\t1 = 1st, 2 = 2nd, 3 = 3rd\n",
    "- sex\tSex\t\n",
    "- Age\tAge in years\t\n",
    "- sibsp\t# of siblings / spouses aboard the Titanic\t\n",
    "- parch\t# of parents / children aboard the Titanic\t\n",
    "- ticket\tTicket number\t\n",
    "- fare\tPassenger fare\t\n",
    "- cabin\tCabin number\t\n",
    "- embarked\tPort of Embarkation\tC = Cherbourg, Q = Queenstown, S = Southampton\n",
    "\n",
    "## Sample Notebook\n",
    "\n",
    "- https://www.kaggle.com/sinakhorami/titanic-best-working-classifier\n",
    "- https://www.kaggle.com/startupsci/titanic-data-science-solutions"
   ]
  },
  {
   "cell_type": "code",
   "execution_count": 5,
   "id": "bba65e58-6560-4d93-a396-11c13757a920",
   "metadata": {},
   "outputs": [
    {
     "data": {
      "text/html": [
       "<div>\n",
       "<style scoped>\n",
       "    .dataframe tbody tr th:only-of-type {\n",
       "        vertical-align: middle;\n",
       "    }\n",
       "\n",
       "    .dataframe tbody tr th {\n",
       "        vertical-align: top;\n",
       "    }\n",
       "\n",
       "    .dataframe thead th {\n",
       "        text-align: right;\n",
       "    }\n",
       "</style>\n",
       "<table border=\"1\" class=\"dataframe\">\n",
       "  <thead>\n",
       "    <tr style=\"text-align: right;\">\n",
       "      <th></th>\n",
       "      <th>PassengerId</th>\n",
       "      <th>Survived</th>\n",
       "      <th>Pclass</th>\n",
       "      <th>Age</th>\n",
       "      <th>SibSp</th>\n",
       "      <th>Parch</th>\n",
       "      <th>Fare</th>\n",
       "    </tr>\n",
       "  </thead>\n",
       "  <tbody>\n",
       "    <tr>\n",
       "      <th>count</th>\n",
       "      <td>891.000000</td>\n",
       "      <td>891.000000</td>\n",
       "      <td>891.000000</td>\n",
       "      <td>714.000000</td>\n",
       "      <td>891.000000</td>\n",
       "      <td>891.000000</td>\n",
       "      <td>891.000000</td>\n",
       "    </tr>\n",
       "    <tr>\n",
       "      <th>mean</th>\n",
       "      <td>446.000000</td>\n",
       "      <td>0.383838</td>\n",
       "      <td>2.308642</td>\n",
       "      <td>29.699118</td>\n",
       "      <td>0.523008</td>\n",
       "      <td>0.381594</td>\n",
       "      <td>32.204208</td>\n",
       "    </tr>\n",
       "    <tr>\n",
       "      <th>std</th>\n",
       "      <td>257.353842</td>\n",
       "      <td>0.486592</td>\n",
       "      <td>0.836071</td>\n",
       "      <td>14.526497</td>\n",
       "      <td>1.102743</td>\n",
       "      <td>0.806057</td>\n",
       "      <td>49.693429</td>\n",
       "    </tr>\n",
       "    <tr>\n",
       "      <th>min</th>\n",
       "      <td>1.000000</td>\n",
       "      <td>0.000000</td>\n",
       "      <td>1.000000</td>\n",
       "      <td>0.420000</td>\n",
       "      <td>0.000000</td>\n",
       "      <td>0.000000</td>\n",
       "      <td>0.000000</td>\n",
       "    </tr>\n",
       "    <tr>\n",
       "      <th>25%</th>\n",
       "      <td>223.500000</td>\n",
       "      <td>0.000000</td>\n",
       "      <td>2.000000</td>\n",
       "      <td>20.125000</td>\n",
       "      <td>0.000000</td>\n",
       "      <td>0.000000</td>\n",
       "      <td>7.910400</td>\n",
       "    </tr>\n",
       "    <tr>\n",
       "      <th>50%</th>\n",
       "      <td>446.000000</td>\n",
       "      <td>0.000000</td>\n",
       "      <td>3.000000</td>\n",
       "      <td>28.000000</td>\n",
       "      <td>0.000000</td>\n",
       "      <td>0.000000</td>\n",
       "      <td>14.454200</td>\n",
       "    </tr>\n",
       "    <tr>\n",
       "      <th>75%</th>\n",
       "      <td>668.500000</td>\n",
       "      <td>1.000000</td>\n",
       "      <td>3.000000</td>\n",
       "      <td>38.000000</td>\n",
       "      <td>1.000000</td>\n",
       "      <td>0.000000</td>\n",
       "      <td>31.000000</td>\n",
       "    </tr>\n",
       "    <tr>\n",
       "      <th>max</th>\n",
       "      <td>891.000000</td>\n",
       "      <td>1.000000</td>\n",
       "      <td>3.000000</td>\n",
       "      <td>80.000000</td>\n",
       "      <td>8.000000</td>\n",
       "      <td>6.000000</td>\n",
       "      <td>512.329200</td>\n",
       "    </tr>\n",
       "  </tbody>\n",
       "</table>\n",
       "</div>"
      ],
      "text/plain": [
       "       PassengerId    Survived      Pclass         Age       SibSp  \\\n",
       "count   891.000000  891.000000  891.000000  714.000000  891.000000   \n",
       "mean    446.000000    0.383838    2.308642   29.699118    0.523008   \n",
       "std     257.353842    0.486592    0.836071   14.526497    1.102743   \n",
       "min       1.000000    0.000000    1.000000    0.420000    0.000000   \n",
       "25%     223.500000    0.000000    2.000000   20.125000    0.000000   \n",
       "50%     446.000000    0.000000    3.000000   28.000000    0.000000   \n",
       "75%     668.500000    1.000000    3.000000   38.000000    1.000000   \n",
       "max     891.000000    1.000000    3.000000   80.000000    8.000000   \n",
       "\n",
       "            Parch        Fare  \n",
       "count  891.000000  891.000000  \n",
       "mean     0.381594   32.204208  \n",
       "std      0.806057   49.693429  \n",
       "min      0.000000    0.000000  \n",
       "25%      0.000000    7.910400  \n",
       "50%      0.000000   14.454200  \n",
       "75%      0.000000   31.000000  \n",
       "max      6.000000  512.329200  "
      ]
     },
     "metadata": {},
     "output_type": "display_data"
    },
    {
     "data": {
      "text/html": [
       "<div>\n",
       "<style scoped>\n",
       "    .dataframe tbody tr th:only-of-type {\n",
       "        vertical-align: middle;\n",
       "    }\n",
       "\n",
       "    .dataframe tbody tr th {\n",
       "        vertical-align: top;\n",
       "    }\n",
       "\n",
       "    .dataframe thead th {\n",
       "        text-align: right;\n",
       "    }\n",
       "</style>\n",
       "<table border=\"1\" class=\"dataframe\">\n",
       "  <thead>\n",
       "    <tr style=\"text-align: right;\">\n",
       "      <th></th>\n",
       "      <th>Name</th>\n",
       "      <th>Sex</th>\n",
       "      <th>Ticket</th>\n",
       "      <th>Cabin</th>\n",
       "      <th>Embarked</th>\n",
       "    </tr>\n",
       "  </thead>\n",
       "  <tbody>\n",
       "    <tr>\n",
       "      <th>count</th>\n",
       "      <td>891</td>\n",
       "      <td>891</td>\n",
       "      <td>891</td>\n",
       "      <td>204</td>\n",
       "      <td>889</td>\n",
       "    </tr>\n",
       "    <tr>\n",
       "      <th>unique</th>\n",
       "      <td>891</td>\n",
       "      <td>2</td>\n",
       "      <td>681</td>\n",
       "      <td>147</td>\n",
       "      <td>3</td>\n",
       "    </tr>\n",
       "    <tr>\n",
       "      <th>top</th>\n",
       "      <td>Kelly, Miss. Mary</td>\n",
       "      <td>male</td>\n",
       "      <td>CA. 2343</td>\n",
       "      <td>G6</td>\n",
       "      <td>S</td>\n",
       "    </tr>\n",
       "    <tr>\n",
       "      <th>freq</th>\n",
       "      <td>1</td>\n",
       "      <td>577</td>\n",
       "      <td>7</td>\n",
       "      <td>4</td>\n",
       "      <td>644</td>\n",
       "    </tr>\n",
       "  </tbody>\n",
       "</table>\n",
       "</div>"
      ],
      "text/plain": [
       "                     Name   Sex    Ticket Cabin Embarked\n",
       "count                 891   891       891   204      889\n",
       "unique                891     2       681   147        3\n",
       "top     Kelly, Miss. Mary  male  CA. 2343    G6        S\n",
       "freq                    1   577         7     4      644"
      ]
     },
     "metadata": {},
     "output_type": "display_data"
    },
    {
     "name": "stdout",
     "output_type": "stream",
     "text": [
      "<class 'pandas.core.frame.DataFrame'>\n",
      "RangeIndex: 891 entries, 0 to 890\n",
      "Data columns (total 12 columns):\n",
      " #   Column       Non-Null Count  Dtype  \n",
      "---  ------       --------------  -----  \n",
      " 0   PassengerId  891 non-null    int64  \n",
      " 1   Survived     891 non-null    int64  \n",
      " 2   Pclass       891 non-null    int64  \n",
      " 3   Name         891 non-null    object \n",
      " 4   Sex          891 non-null    object \n",
      " 5   Age          714 non-null    float64\n",
      " 6   SibSp        891 non-null    int64  \n",
      " 7   Parch        891 non-null    int64  \n",
      " 8   Ticket       891 non-null    object \n",
      " 9   Fare         891 non-null    float64\n",
      " 10  Cabin        204 non-null    object \n",
      " 11  Embarked     889 non-null    object \n",
      "dtypes: float64(2), int64(5), object(5)\n",
      "memory usage: 83.7+ KB\n"
     ]
    },
    {
     "data": {
      "text/plain": [
       "None"
      ]
     },
     "metadata": {},
     "output_type": "display_data"
    }
   ],
   "source": [
    "display(train_df.describe())\n",
    "display(train_df.describe(include=['O']))\n",
    "display(train_df.info())"
   ]
  },
  {
   "cell_type": "code",
   "execution_count": 74,
   "id": "a5178dd8-5120-4420-a313-c7051ccdf0da",
   "metadata": {},
   "outputs": [
    {
     "data": {
      "text/html": [
       "<div>\n",
       "<style scoped>\n",
       "    .dataframe tbody tr th:only-of-type {\n",
       "        vertical-align: middle;\n",
       "    }\n",
       "\n",
       "    .dataframe tbody tr th {\n",
       "        vertical-align: top;\n",
       "    }\n",
       "\n",
       "    .dataframe thead th {\n",
       "        text-align: right;\n",
       "    }\n",
       "</style>\n",
       "<table border=\"1\" class=\"dataframe\">\n",
       "  <thead>\n",
       "    <tr style=\"text-align: right;\">\n",
       "      <th></th>\n",
       "      <th>PassengerId</th>\n",
       "      <th>Pclass</th>\n",
       "      <th>Age</th>\n",
       "      <th>SibSp</th>\n",
       "      <th>Parch</th>\n",
       "      <th>Fare</th>\n",
       "      <th>Embarked</th>\n",
       "      <th>FamilySize</th>\n",
       "      <th>IsAlone</th>\n",
       "      <th>Title</th>\n",
       "      <th>SexCategory</th>\n",
       "    </tr>\n",
       "  </thead>\n",
       "  <tbody>\n",
       "    <tr>\n",
       "      <th>count</th>\n",
       "      <td>418.000000</td>\n",
       "      <td>418.000000</td>\n",
       "      <td>418.000000</td>\n",
       "      <td>418.000000</td>\n",
       "      <td>418.000000</td>\n",
       "      <td>418.000000</td>\n",
       "      <td>418.000000</td>\n",
       "      <td>418.000000</td>\n",
       "      <td>418.000000</td>\n",
       "      <td>418.000000</td>\n",
       "      <td>418.000000</td>\n",
       "    </tr>\n",
       "    <tr>\n",
       "      <th>mean</th>\n",
       "      <td>1100.500000</td>\n",
       "      <td>2.265550</td>\n",
       "      <td>29.959330</td>\n",
       "      <td>0.447368</td>\n",
       "      <td>0.392344</td>\n",
       "      <td>35.576535</td>\n",
       "      <td>0.464115</td>\n",
       "      <td>1.839713</td>\n",
       "      <td>0.605263</td>\n",
       "      <td>1.736842</td>\n",
       "      <td>0.636364</td>\n",
       "    </tr>\n",
       "    <tr>\n",
       "      <th>std</th>\n",
       "      <td>120.810458</td>\n",
       "      <td>0.841838</td>\n",
       "      <td>13.210372</td>\n",
       "      <td>0.896760</td>\n",
       "      <td>0.981429</td>\n",
       "      <td>55.850103</td>\n",
       "      <td>0.685516</td>\n",
       "      <td>1.519072</td>\n",
       "      <td>0.489380</td>\n",
       "      <td>1.009609</td>\n",
       "      <td>0.481622</td>\n",
       "    </tr>\n",
       "    <tr>\n",
       "      <th>min</th>\n",
       "      <td>892.000000</td>\n",
       "      <td>1.000000</td>\n",
       "      <td>0.000000</td>\n",
       "      <td>0.000000</td>\n",
       "      <td>0.000000</td>\n",
       "      <td>0.000000</td>\n",
       "      <td>0.000000</td>\n",
       "      <td>1.000000</td>\n",
       "      <td>0.000000</td>\n",
       "      <td>0.000000</td>\n",
       "      <td>0.000000</td>\n",
       "    </tr>\n",
       "    <tr>\n",
       "      <th>25%</th>\n",
       "      <td>996.250000</td>\n",
       "      <td>1.000000</td>\n",
       "      <td>21.000000</td>\n",
       "      <td>0.000000</td>\n",
       "      <td>0.000000</td>\n",
       "      <td>7.895800</td>\n",
       "      <td>0.000000</td>\n",
       "      <td>1.000000</td>\n",
       "      <td>0.000000</td>\n",
       "      <td>1.000000</td>\n",
       "      <td>0.000000</td>\n",
       "    </tr>\n",
       "    <tr>\n",
       "      <th>50%</th>\n",
       "      <td>1100.500000</td>\n",
       "      <td>3.000000</td>\n",
       "      <td>28.000000</td>\n",
       "      <td>0.000000</td>\n",
       "      <td>0.000000</td>\n",
       "      <td>14.454200</td>\n",
       "      <td>0.000000</td>\n",
       "      <td>1.000000</td>\n",
       "      <td>1.000000</td>\n",
       "      <td>1.000000</td>\n",
       "      <td>1.000000</td>\n",
       "    </tr>\n",
       "    <tr>\n",
       "      <th>75%</th>\n",
       "      <td>1204.750000</td>\n",
       "      <td>3.000000</td>\n",
       "      <td>38.750000</td>\n",
       "      <td>1.000000</td>\n",
       "      <td>0.000000</td>\n",
       "      <td>31.471875</td>\n",
       "      <td>1.000000</td>\n",
       "      <td>2.000000</td>\n",
       "      <td>1.000000</td>\n",
       "      <td>2.000000</td>\n",
       "      <td>1.000000</td>\n",
       "    </tr>\n",
       "    <tr>\n",
       "      <th>max</th>\n",
       "      <td>1309.000000</td>\n",
       "      <td>3.000000</td>\n",
       "      <td>76.000000</td>\n",
       "      <td>8.000000</td>\n",
       "      <td>9.000000</td>\n",
       "      <td>512.329200</td>\n",
       "      <td>2.000000</td>\n",
       "      <td>11.000000</td>\n",
       "      <td>1.000000</td>\n",
       "      <td>5.000000</td>\n",
       "      <td>1.000000</td>\n",
       "    </tr>\n",
       "  </tbody>\n",
       "</table>\n",
       "</div>"
      ],
      "text/plain": [
       "       PassengerId      Pclass         Age       SibSp       Parch  \\\n",
       "count   418.000000  418.000000  418.000000  418.000000  418.000000   \n",
       "mean   1100.500000    2.265550   29.959330    0.447368    0.392344   \n",
       "std     120.810458    0.841838   13.210372    0.896760    0.981429   \n",
       "min     892.000000    1.000000    0.000000    0.000000    0.000000   \n",
       "25%     996.250000    1.000000   21.000000    0.000000    0.000000   \n",
       "50%    1100.500000    3.000000   28.000000    0.000000    0.000000   \n",
       "75%    1204.750000    3.000000   38.750000    1.000000    0.000000   \n",
       "max    1309.000000    3.000000   76.000000    8.000000    9.000000   \n",
       "\n",
       "             Fare    Embarked  FamilySize     IsAlone       Title  SexCategory  \n",
       "count  418.000000  418.000000  418.000000  418.000000  418.000000   418.000000  \n",
       "mean    35.576535    0.464115    1.839713    0.605263    1.736842     0.636364  \n",
       "std     55.850103    0.685516    1.519072    0.489380    1.009609     0.481622  \n",
       "min      0.000000    0.000000    1.000000    0.000000    0.000000     0.000000  \n",
       "25%      7.895800    0.000000    1.000000    0.000000    1.000000     0.000000  \n",
       "50%     14.454200    0.000000    1.000000    1.000000    1.000000     1.000000  \n",
       "75%     31.471875    1.000000    2.000000    1.000000    2.000000     1.000000  \n",
       "max    512.329200    2.000000   11.000000    1.000000    5.000000     1.000000  "
      ]
     },
     "metadata": {},
     "output_type": "display_data"
    },
    {
     "data": {
      "text/html": [
       "<div>\n",
       "<style scoped>\n",
       "    .dataframe tbody tr th:only-of-type {\n",
       "        vertical-align: middle;\n",
       "    }\n",
       "\n",
       "    .dataframe tbody tr th {\n",
       "        vertical-align: top;\n",
       "    }\n",
       "\n",
       "    .dataframe thead th {\n",
       "        text-align: right;\n",
       "    }\n",
       "</style>\n",
       "<table border=\"1\" class=\"dataframe\">\n",
       "  <thead>\n",
       "    <tr style=\"text-align: right;\">\n",
       "      <th></th>\n",
       "      <th>Name</th>\n",
       "      <th>Sex</th>\n",
       "      <th>Ticket</th>\n",
       "      <th>Cabin</th>\n",
       "    </tr>\n",
       "  </thead>\n",
       "  <tbody>\n",
       "    <tr>\n",
       "      <th>count</th>\n",
       "      <td>418</td>\n",
       "      <td>418</td>\n",
       "      <td>418</td>\n",
       "      <td>91</td>\n",
       "    </tr>\n",
       "    <tr>\n",
       "      <th>unique</th>\n",
       "      <td>418</td>\n",
       "      <td>2</td>\n",
       "      <td>363</td>\n",
       "      <td>76</td>\n",
       "    </tr>\n",
       "    <tr>\n",
       "      <th>top</th>\n",
       "      <td>Chapman, Mrs. John Henry (Sara Elizabeth Lawry)</td>\n",
       "      <td>male</td>\n",
       "      <td>PC 17608</td>\n",
       "      <td>B57 B59 B63 B66</td>\n",
       "    </tr>\n",
       "    <tr>\n",
       "      <th>freq</th>\n",
       "      <td>1</td>\n",
       "      <td>266</td>\n",
       "      <td>5</td>\n",
       "      <td>3</td>\n",
       "    </tr>\n",
       "  </tbody>\n",
       "</table>\n",
       "</div>"
      ],
      "text/plain": [
       "                                                   Name   Sex    Ticket  \\\n",
       "count                                               418   418       418   \n",
       "unique                                              418     2       363   \n",
       "top     Chapman, Mrs. John Henry (Sara Elizabeth Lawry)  male  PC 17608   \n",
       "freq                                                  1   266         5   \n",
       "\n",
       "                  Cabin  \n",
       "count                91  \n",
       "unique               76  \n",
       "top     B57 B59 B63 B66  \n",
       "freq                  3  "
      ]
     },
     "metadata": {},
     "output_type": "display_data"
    },
    {
     "name": "stdout",
     "output_type": "stream",
     "text": [
      "<class 'pandas.core.frame.DataFrame'>\n",
      "RangeIndex: 418 entries, 0 to 417\n",
      "Data columns (total 17 columns):\n",
      " #   Column           Non-Null Count  Dtype   \n",
      "---  ------           --------------  -----   \n",
      " 0   PassengerId      418 non-null    int64   \n",
      " 1   Pclass           418 non-null    int64   \n",
      " 2   Name             418 non-null    object  \n",
      " 3   Sex              418 non-null    object  \n",
      " 4   Age              418 non-null    int64   \n",
      " 5   SibSp            418 non-null    int64   \n",
      " 6   Parch            418 non-null    int64   \n",
      " 7   Ticket           418 non-null    object  \n",
      " 8   Fare             418 non-null    float64 \n",
      " 9   Cabin            91 non-null     object  \n",
      " 10  Embarked         418 non-null    int64   \n",
      " 11  FamilySize       418 non-null    int64   \n",
      " 12  IsAlone          418 non-null    int64   \n",
      " 13  CategoricalFare  418 non-null    category\n",
      " 14  CategoricalAge   418 non-null    category\n",
      " 15  Title            418 non-null    float64 \n",
      " 16  SexCategory      418 non-null    int64   \n",
      "dtypes: category(2), float64(2), int64(9), object(4)\n",
      "memory usage: 50.3+ KB\n"
     ]
    },
    {
     "data": {
      "text/plain": [
       "None"
      ]
     },
     "metadata": {},
     "output_type": "display_data"
    }
   ],
   "source": [
    "display(test_df.describe())\n",
    "display(test_df.describe(include=['O']))\n",
    "display(test_df.info())"
   ]
  },
  {
   "cell_type": "code",
   "execution_count": 7,
   "id": "d3737666-4763-4a77-99bb-a2ec561527fd",
   "metadata": {},
   "outputs": [],
   "source": [
    "all_data = [train_df, test_df]"
   ]
  },
  {
   "cell_type": "code",
   "execution_count": 8,
   "id": "767ec657-26d1-4e43-9c26-ebe529217663",
   "metadata": {},
   "outputs": [
    {
     "data": {
      "text/html": [
       "<style  type=\"text/css\" >\n",
       "#T_c5e5e_row0_col0{\n",
       "            width:  10em;\n",
       "             height:  80%;\n",
       "            background:  linear-gradient(90deg,blue 38.5%, transparent 38.5%);\n",
       "        }#T_c5e5e_row1_col0{\n",
       "            width:  10em;\n",
       "             height:  80%;\n",
       "            background:  linear-gradient(90deg,blue 75.1%, transparent 75.1%);\n",
       "        }#T_c5e5e_row2_col0{\n",
       "            width:  10em;\n",
       "             height:  80%;\n",
       "            background:  linear-gradient(90deg,blue 100.0%, transparent 100.0%);\n",
       "        }</style><table id=\"T_c5e5e_\" ><thead>    <tr>        <th class=\"blank level0\" ></th>        <th class=\"col_heading level0 col0\" >Survived</th>    </tr>    <tr>        <th class=\"index_name level0\" >Pclass</th>        <th class=\"blank\" ></th>    </tr></thead><tbody>\n",
       "                <tr>\n",
       "                        <th id=\"T_c5e5e_level0_row0\" class=\"row_heading level0 row0\" >3</th>\n",
       "                        <td id=\"T_c5e5e_row0_col0\" class=\"data row0 col0\" >0.242363</td>\n",
       "            </tr>\n",
       "            <tr>\n",
       "                        <th id=\"T_c5e5e_level0_row1\" class=\"row_heading level0 row1\" >2</th>\n",
       "                        <td id=\"T_c5e5e_row1_col0\" class=\"data row1 col0\" >0.472826</td>\n",
       "            </tr>\n",
       "            <tr>\n",
       "                        <th id=\"T_c5e5e_level0_row2\" class=\"row_heading level0 row2\" >1</th>\n",
       "                        <td id=\"T_c5e5e_row2_col0\" class=\"data row2 col0\" >0.629630</td>\n",
       "            </tr>\n",
       "    </tbody></table>"
      ],
      "text/plain": [
       "<pandas.io.formats.style.Styler at 0x109435580>"
      ]
     },
     "execution_count": 8,
     "metadata": {},
     "output_type": "execute_result"
    }
   ],
   "source": [
    "train_df[['Survived', 'Pclass']].groupby('Pclass').mean().sort_values(by='Pclass', ascending=False).style.bar(color=[\"blue\"], axis=0, align='mid')"
   ]
  },
  {
   "cell_type": "code",
   "execution_count": 9,
   "id": "7a365387-1e80-4d11-b441-9d6f3130e53c",
   "metadata": {},
   "outputs": [
    {
     "data": {
      "text/html": [
       "<div>\n",
       "<style scoped>\n",
       "    .dataframe tbody tr th:only-of-type {\n",
       "        vertical-align: middle;\n",
       "    }\n",
       "\n",
       "    .dataframe tbody tr th {\n",
       "        vertical-align: top;\n",
       "    }\n",
       "\n",
       "    .dataframe thead th {\n",
       "        text-align: right;\n",
       "    }\n",
       "</style>\n",
       "<table border=\"1\" class=\"dataframe\">\n",
       "  <thead>\n",
       "    <tr style=\"text-align: right;\">\n",
       "      <th></th>\n",
       "      <th>Survived</th>\n",
       "    </tr>\n",
       "    <tr>\n",
       "      <th>Sex</th>\n",
       "      <th></th>\n",
       "    </tr>\n",
       "  </thead>\n",
       "  <tbody>\n",
       "    <tr>\n",
       "      <th>male</th>\n",
       "      <td>0.188908</td>\n",
       "    </tr>\n",
       "    <tr>\n",
       "      <th>female</th>\n",
       "      <td>0.742038</td>\n",
       "    </tr>\n",
       "  </tbody>\n",
       "</table>\n",
       "</div>"
      ],
      "text/plain": [
       "        Survived\n",
       "Sex             \n",
       "male    0.188908\n",
       "female  0.742038"
      ]
     },
     "execution_count": 9,
     "metadata": {},
     "output_type": "execute_result"
    }
   ],
   "source": [
    "train_df[['Survived', 'Sex']].groupby('Sex').mean().sort_values(by='Sex', ascending=False)"
   ]
  },
  {
   "cell_type": "code",
   "execution_count": 10,
   "id": "d0c23c62-8386-4919-a86d-afebf6df2f81",
   "metadata": {},
   "outputs": [],
   "source": [
    "def calc_family_size(x):\n",
    "    return x['SibSp'] + x['Parch'] + 1"
   ]
  },
  {
   "cell_type": "code",
   "execution_count": 11,
   "id": "df59f811-805f-431f-ae7c-ba23e953ce3e",
   "metadata": {},
   "outputs": [
    {
     "data": {
      "text/html": [
       "<style  type=\"text/css\" >\n",
       "#T_3001f_row0_col0,#T_3001f_row1_col0{\n",
       "            width:  10em;\n",
       "             height:  80%;\n",
       "        }#T_3001f_row2_col0{\n",
       "            width:  10em;\n",
       "             height:  80%;\n",
       "            background:  linear-gradient(90deg,blue 46.0%, transparent 46.0%);\n",
       "        }#T_3001f_row3_col0{\n",
       "            width:  10em;\n",
       "             height:  80%;\n",
       "            background:  linear-gradient(90deg,blue 18.8%, transparent 18.8%);\n",
       "        }#T_3001f_row4_col0{\n",
       "            width:  10em;\n",
       "             height:  80%;\n",
       "            background:  linear-gradient(90deg,blue 27.6%, transparent 27.6%);\n",
       "        }#T_3001f_row5_col0{\n",
       "            width:  10em;\n",
       "             height:  80%;\n",
       "            background:  linear-gradient(90deg,blue 100.0%, transparent 100.0%);\n",
       "        }#T_3001f_row6_col0{\n",
       "            width:  10em;\n",
       "             height:  80%;\n",
       "            background:  linear-gradient(90deg,blue 79.9%, transparent 79.9%);\n",
       "        }#T_3001f_row7_col0{\n",
       "            width:  10em;\n",
       "             height:  80%;\n",
       "            background:  linear-gradient(90deg,blue 76.3%, transparent 76.3%);\n",
       "        }#T_3001f_row8_col0{\n",
       "            width:  10em;\n",
       "             height:  80%;\n",
       "            background:  linear-gradient(90deg,blue 41.9%, transparent 41.9%);\n",
       "        }</style><table id=\"T_3001f_\" ><thead>    <tr>        <th class=\"blank level0\" ></th>        <th class=\"col_heading level0 col0\" >Survived</th>    </tr>    <tr>        <th class=\"index_name level0\" >FamilySize</th>        <th class=\"blank\" ></th>    </tr></thead><tbody>\n",
       "                <tr>\n",
       "                        <th id=\"T_3001f_level0_row0\" class=\"row_heading level0 row0\" >11</th>\n",
       "                        <td id=\"T_3001f_row0_col0\" class=\"data row0 col0\" >0.000000</td>\n",
       "            </tr>\n",
       "            <tr>\n",
       "                        <th id=\"T_3001f_level0_row1\" class=\"row_heading level0 row1\" >8</th>\n",
       "                        <td id=\"T_3001f_row1_col0\" class=\"data row1 col0\" >0.000000</td>\n",
       "            </tr>\n",
       "            <tr>\n",
       "                        <th id=\"T_3001f_level0_row2\" class=\"row_heading level0 row2\" >7</th>\n",
       "                        <td id=\"T_3001f_row2_col0\" class=\"data row2 col0\" >0.333333</td>\n",
       "            </tr>\n",
       "            <tr>\n",
       "                        <th id=\"T_3001f_level0_row3\" class=\"row_heading level0 row3\" >6</th>\n",
       "                        <td id=\"T_3001f_row3_col0\" class=\"data row3 col0\" >0.136364</td>\n",
       "            </tr>\n",
       "            <tr>\n",
       "                        <th id=\"T_3001f_level0_row4\" class=\"row_heading level0 row4\" >5</th>\n",
       "                        <td id=\"T_3001f_row4_col0\" class=\"data row4 col0\" >0.200000</td>\n",
       "            </tr>\n",
       "            <tr>\n",
       "                        <th id=\"T_3001f_level0_row5\" class=\"row_heading level0 row5\" >4</th>\n",
       "                        <td id=\"T_3001f_row5_col0\" class=\"data row5 col0\" >0.724138</td>\n",
       "            </tr>\n",
       "            <tr>\n",
       "                        <th id=\"T_3001f_level0_row6\" class=\"row_heading level0 row6\" >3</th>\n",
       "                        <td id=\"T_3001f_row6_col0\" class=\"data row6 col0\" >0.578431</td>\n",
       "            </tr>\n",
       "            <tr>\n",
       "                        <th id=\"T_3001f_level0_row7\" class=\"row_heading level0 row7\" >2</th>\n",
       "                        <td id=\"T_3001f_row7_col0\" class=\"data row7 col0\" >0.552795</td>\n",
       "            </tr>\n",
       "            <tr>\n",
       "                        <th id=\"T_3001f_level0_row8\" class=\"row_heading level0 row8\" >1</th>\n",
       "                        <td id=\"T_3001f_row8_col0\" class=\"data row8 col0\" >0.303538</td>\n",
       "            </tr>\n",
       "    </tbody></table>"
      ],
      "text/plain": [
       "<pandas.io.formats.style.Styler at 0x129fcf400>"
      ]
     },
     "execution_count": 11,
     "metadata": {},
     "output_type": "execute_result"
    }
   ],
   "source": [
    "train_df['FamilySize'] = train_df.apply(lambda x: calc_family_size(x), axis=1)\n",
    "test_df['FamilySize'] = test_df.apply(lambda x: calc_family_size(x), axis=1)\n",
    "train_df[['Survived', 'FamilySize']].groupby('FamilySize').mean().sort_values(by='FamilySize', ascending=False).style.bar(color=[\"blue\"], axis=0, align='mid')"
   ]
  },
  {
   "cell_type": "code",
   "execution_count": 12,
   "id": "909b07d7-2ae6-414f-ac36-ebb2309d12e3",
   "metadata": {},
   "outputs": [],
   "source": [
    "def calc_is_alone(x):\n",
    "    if x['FamilySize'] == 1:\n",
    "        return 1\n",
    "    return 0"
   ]
  },
  {
   "cell_type": "code",
   "execution_count": 13,
   "id": "fa602b46-2394-4364-9609-a5b3a4796a78",
   "metadata": {},
   "outputs": [
    {
     "data": {
      "text/html": [
       "<style  type=\"text/css\" >\n",
       "#T_554ae_row0_col0{\n",
       "            width:  10em;\n",
       "             height:  80%;\n",
       "            background:  linear-gradient(90deg,blue 60.0%, transparent 60.0%);\n",
       "        }#T_554ae_row1_col0{\n",
       "            width:  10em;\n",
       "             height:  80%;\n",
       "            background:  linear-gradient(90deg,blue 100.0%, transparent 100.0%);\n",
       "        }</style><table id=\"T_554ae_\" ><thead>    <tr>        <th class=\"blank level0\" ></th>        <th class=\"col_heading level0 col0\" >Survived</th>    </tr>    <tr>        <th class=\"index_name level0\" >IsAlone</th>        <th class=\"blank\" ></th>    </tr></thead><tbody>\n",
       "                <tr>\n",
       "                        <th id=\"T_554ae_level0_row0\" class=\"row_heading level0 row0\" >1</th>\n",
       "                        <td id=\"T_554ae_row0_col0\" class=\"data row0 col0\" >0.303538</td>\n",
       "            </tr>\n",
       "            <tr>\n",
       "                        <th id=\"T_554ae_level0_row1\" class=\"row_heading level0 row1\" >0</th>\n",
       "                        <td id=\"T_554ae_row1_col0\" class=\"data row1 col0\" >0.505650</td>\n",
       "            </tr>\n",
       "    </tbody></table>"
      ],
      "text/plain": [
       "<pandas.io.formats.style.Styler at 0x129f8fe80>"
      ]
     },
     "execution_count": 13,
     "metadata": {},
     "output_type": "execute_result"
    }
   ],
   "source": [
    "train_df['IsAlone'] = train_df.apply(lambda x: calc_is_alone(x), axis=1)\n",
    "test_df['IsAlone'] = test_df.apply(lambda x: calc_is_alone(x), axis=1)\n",
    "train_df[['Survived', 'IsAlone']].groupby('IsAlone').mean().sort_values(by='IsAlone', ascending=False).style.bar(color=[\"blue\"], axis=0, align='mid')"
   ]
  },
  {
   "cell_type": "code",
   "execution_count": 14,
   "id": "a23e438d-0baa-4b85-8237-0dea1930074f",
   "metadata": {},
   "outputs": [
    {
     "data": {
      "text/html": [
       "<style  type=\"text/css\" >\n",
       "#T_493c1_row0_col0{\n",
       "            width:  10em;\n",
       "             height:  80%;\n",
       "            background:  linear-gradient(90deg,blue 61.2%, transparent 61.2%);\n",
       "        }#T_493c1_row1_col0{\n",
       "            width:  10em;\n",
       "             height:  80%;\n",
       "            background:  linear-gradient(90deg,blue 70.4%, transparent 70.4%);\n",
       "        }#T_493c1_row2_col0{\n",
       "            width:  10em;\n",
       "             height:  80%;\n",
       "            background:  linear-gradient(90deg,blue 100.0%, transparent 100.0%);\n",
       "        }</style><table id=\"T_493c1_\" ><thead>    <tr>        <th class=\"blank level0\" ></th>        <th class=\"col_heading level0 col0\" >Survived</th>    </tr>    <tr>        <th class=\"index_name level0\" >Embarked</th>        <th class=\"blank\" ></th>    </tr></thead><tbody>\n",
       "                <tr>\n",
       "                        <th id=\"T_493c1_level0_row0\" class=\"row_heading level0 row0\" >S</th>\n",
       "                        <td id=\"T_493c1_row0_col0\" class=\"data row0 col0\" >0.339009</td>\n",
       "            </tr>\n",
       "            <tr>\n",
       "                        <th id=\"T_493c1_level0_row1\" class=\"row_heading level0 row1\" >Q</th>\n",
       "                        <td id=\"T_493c1_row1_col0\" class=\"data row1 col0\" >0.389610</td>\n",
       "            </tr>\n",
       "            <tr>\n",
       "                        <th id=\"T_493c1_level0_row2\" class=\"row_heading level0 row2\" >C</th>\n",
       "                        <td id=\"T_493c1_row2_col0\" class=\"data row2 col0\" >0.553571</td>\n",
       "            </tr>\n",
       "    </tbody></table>"
      ],
      "text/plain": [
       "<pandas.io.formats.style.Styler at 0x129ff88b0>"
      ]
     },
     "execution_count": 14,
     "metadata": {},
     "output_type": "execute_result"
    }
   ],
   "source": [
    "train_df['Embarked'] = train_df['Embarked'].fillna('S')\n",
    "test_df['Embarked'] = test_df['Embarked'].fillna('S')\n",
    "train_df[['Survived', 'Embarked']].groupby('Embarked').mean().sort_values(by='Embarked', ascending=False).style.bar(color=[\"blue\"], axis=0, align='mid')"
   ]
  },
  {
   "cell_type": "code",
   "execution_count": 15,
   "id": "aca7ef5e-1814-405c-b418-a5957963a3c0",
   "metadata": {},
   "outputs": [],
   "source": [
    "train_df['Fare'] = train_df['Fare'].fillna(train_df['Fare'].median())\n",
    "test_df['Fare'] = test_df['Fare'].fillna(train_df['Fare'].median())"
   ]
  },
  {
   "cell_type": "code",
   "execution_count": 16,
   "id": "d3132198-ff5e-412e-b30c-33a80f6dca27",
   "metadata": {},
   "outputs": [
    {
     "data": {
      "text/html": [
       "<style  type=\"text/css\" >\n",
       "#T_1adf2_row0_col0{\n",
       "            width:  10em;\n",
       "             height:  80%;\n",
       "            background:  linear-gradient(90deg,blue 34.0%, transparent 34.0%);\n",
       "        }#T_1adf2_row1_col0{\n",
       "            width:  10em;\n",
       "             height:  80%;\n",
       "            background:  linear-gradient(90deg,blue 52.2%, transparent 52.2%);\n",
       "        }#T_1adf2_row2_col0{\n",
       "            width:  10em;\n",
       "             height:  80%;\n",
       "            background:  linear-gradient(90deg,blue 78.3%, transparent 78.3%);\n",
       "        }#T_1adf2_row3_col0{\n",
       "            width:  10em;\n",
       "             height:  80%;\n",
       "            background:  linear-gradient(90deg,blue 100.0%, transparent 100.0%);\n",
       "        }</style><table id=\"T_1adf2_\" ><thead>    <tr>        <th class=\"blank level0\" ></th>        <th class=\"col_heading level0 col0\" >Survived</th>    </tr>    <tr>        <th class=\"index_name level0\" >CategoricalFare</th>        <th class=\"blank\" ></th>    </tr></thead><tbody>\n",
       "                <tr>\n",
       "                        <th id=\"T_1adf2_level0_row0\" class=\"row_heading level0 row0\" >1</th>\n",
       "                        <td id=\"T_1adf2_row0_col0\" class=\"data row0 col0\" >0.197309</td>\n",
       "            </tr>\n",
       "            <tr>\n",
       "                        <th id=\"T_1adf2_level0_row1\" class=\"row_heading level0 row1\" >2</th>\n",
       "                        <td id=\"T_1adf2_row1_col0\" class=\"data row1 col0\" >0.303571</td>\n",
       "            </tr>\n",
       "            <tr>\n",
       "                        <th id=\"T_1adf2_level0_row2\" class=\"row_heading level0 row2\" >3</th>\n",
       "                        <td id=\"T_1adf2_row2_col0\" class=\"data row2 col0\" >0.454955</td>\n",
       "            </tr>\n",
       "            <tr>\n",
       "                        <th id=\"T_1adf2_level0_row3\" class=\"row_heading level0 row3\" >4</th>\n",
       "                        <td id=\"T_1adf2_row3_col0\" class=\"data row3 col0\" >0.581081</td>\n",
       "            </tr>\n",
       "    </tbody></table>"
      ],
      "text/plain": [
       "<pandas.io.formats.style.Styler at 0x129f8f8b0>"
      ]
     },
     "execution_count": 16,
     "metadata": {},
     "output_type": "execute_result"
    }
   ],
   "source": [
    "train_df['CategoricalFare'] = pd.qcut(train_df['Fare'], 4, labels=[1, 2, 3, 4])\n",
    "test_df['CategoricalFare'] = pd.qcut(test_df['Fare'], 4, labels=[1, 2, 3, 4])\n",
    "train_df[['Survived', 'CategoricalFare']].groupby('CategoricalFare').mean().style.bar(color=['blue'], axis=0, align='mid')"
   ]
  },
  {
   "cell_type": "code",
   "execution_count": 17,
   "id": "fa98d4e1-e2a0-48a8-9541-e670970657a3",
   "metadata": {},
   "outputs": [
    {
     "name": "stdout",
     "output_type": "stream",
     "text": [
      "177 86\n"
     ]
    }
   ],
   "source": [
    "print(train_df['Age'].isnull().sum(), test_df['Age'].isnull().sum())"
   ]
  },
  {
   "cell_type": "code",
   "execution_count": 18,
   "id": "de449df1-4e8d-4dff-8ad2-544aab7db956",
   "metadata": {},
   "outputs": [],
   "source": [
    "def fill_age(dataset):\n",
    "    age_avg = dataset['Age'].mean()\n",
    "    age_std = dataset['Age'].std()\n",
    "    age_null_count = dataset['Age'].isnull().sum()\n",
    "    age_null_random_list = np.random.randint(age_avg - age_std, age_avg + age_std, size=age_null_count)\n",
    "    dataset.loc[np.isnan(dataset['Age']), 'Age'] = age_null_random_list\n",
    "    dataset['Age'] = dataset['Age'].astype(int)"
   ]
  },
  {
   "cell_type": "code",
   "execution_count": 19,
   "id": "563c74fe-fc2d-40c2-bee2-6bebc465b48a",
   "metadata": {},
   "outputs": [],
   "source": [
    "fill_age(train_df)\n",
    "fill_age(test_df)"
   ]
  },
  {
   "cell_type": "code",
   "execution_count": 20,
   "id": "67603b21-5924-4da9-b3af-9d34d3844833",
   "metadata": {},
   "outputs": [
    {
     "name": "stdout",
     "output_type": "stream",
     "text": [
      "0 0\n"
     ]
    }
   ],
   "source": [
    "print(train_df['Age'].isnull().sum(), test_df['Age'].isnull().sum())"
   ]
  },
  {
   "cell_type": "code",
   "execution_count": 21,
   "id": "2a527efe-84c9-482d-b394-dd46161a6396",
   "metadata": {},
   "outputs": [
    {
     "name": "stdout",
     "output_type": "stream",
     "text": [
      "[-0.08 16.   32.   48.   64.   80.  ]\n"
     ]
    },
    {
     "data": {
      "text/html": [
       "<style  type=\"text/css\" >\n",
       "#T_39dae_row0_col0{\n",
       "            width:  10em;\n",
       "             height:  80%;\n",
       "            background:  linear-gradient(90deg,blue 100.0%, transparent 100.0%);\n",
       "        }#T_39dae_row1_col0{\n",
       "            width:  10em;\n",
       "             height:  80%;\n",
       "            background:  linear-gradient(90deg,blue 69.0%, transparent 69.0%);\n",
       "        }#T_39dae_row2_col0{\n",
       "            width:  10em;\n",
       "             height:  80%;\n",
       "            background:  linear-gradient(90deg,blue 73.7%, transparent 73.7%);\n",
       "        }#T_39dae_row3_col0{\n",
       "            width:  10em;\n",
       "             height:  80%;\n",
       "            background:  linear-gradient(90deg,blue 84.7%, transparent 84.7%);\n",
       "        }#T_39dae_row4_col0{\n",
       "            width:  10em;\n",
       "             height:  80%;\n",
       "            background:  linear-gradient(90deg,blue 17.7%, transparent 17.7%);\n",
       "        }</style><table id=\"T_39dae_\" ><thead>    <tr>        <th class=\"blank level0\" ></th>        <th class=\"col_heading level0 col0\" >Survived</th>    </tr>    <tr>        <th class=\"index_name level0\" >CategoricalAge</th>        <th class=\"blank\" ></th>    </tr></thead><tbody>\n",
       "                <tr>\n",
       "                        <th id=\"T_39dae_level0_row0\" class=\"row_heading level0 row0\" >1</th>\n",
       "                        <td id=\"T_39dae_row0_col0\" class=\"data row0 col0\" >0.513514</td>\n",
       "            </tr>\n",
       "            <tr>\n",
       "                        <th id=\"T_39dae_level0_row1\" class=\"row_heading level0 row1\" >2</th>\n",
       "                        <td id=\"T_39dae_row1_col0\" class=\"data row1 col0\" >0.354486</td>\n",
       "            </tr>\n",
       "            <tr>\n",
       "                        <th id=\"T_39dae_level0_row2\" class=\"row_heading level0 row2\" >3</th>\n",
       "                        <td id=\"T_39dae_row2_col0\" class=\"data row2 col0\" >0.378601</td>\n",
       "            </tr>\n",
       "            <tr>\n",
       "                        <th id=\"T_39dae_level0_row3\" class=\"row_heading level0 row3\" >4</th>\n",
       "                        <td id=\"T_39dae_row3_col0\" class=\"data row3 col0\" >0.434783</td>\n",
       "            </tr>\n",
       "            <tr>\n",
       "                        <th id=\"T_39dae_level0_row4\" class=\"row_heading level0 row4\" >5</th>\n",
       "                        <td id=\"T_39dae_row4_col0\" class=\"data row4 col0\" >0.090909</td>\n",
       "            </tr>\n",
       "    </tbody></table>"
      ],
      "text/plain": [
       "<pandas.io.formats.style.Styler at 0x129ff8970>"
      ]
     },
     "execution_count": 21,
     "metadata": {},
     "output_type": "execute_result"
    }
   ],
   "source": [
    "_, age_bins = pd.cut(train_df['Age'], 5, retbins=True)\n",
    "print(age_bins)\n",
    "train_df['CategoricalAge'] = pd.cut(train_df['Age'], 5, labels=[1, 2, 3, 4, 5])\n",
    "test_df['CategoricalAge'] = pd.cut(test_df['Age'], 5, labels=[1, 2, 3, 4, 5])\n",
    "train_df[['Survived', 'CategoricalAge']].groupby('CategoricalAge').mean().style.bar(color=['blue'], axis=0, align='mid')"
   ]
  },
  {
   "cell_type": "code",
   "execution_count": 22,
   "id": "b15b6f74-731e-414e-813a-e19769ca5d2a",
   "metadata": {},
   "outputs": [],
   "source": [
    "import re\n",
    "\n",
    "rare_title = ['Lady', 'Countess','Capt', 'Col', 'Don', 'Dr', 'Major', 'Rev', 'Sir', 'Jonkheer', 'Dona']\n",
    "def get_title(name):\n",
    "    title_search = re.search(' ([A-Za-z]+)\\.', name)\n",
    "    if title_search:\n",
    "        t = title_search.group(1)\n",
    "        if t in rare_title:\n",
    "            return 'Rare'\n",
    "        elif t in ['Mlle', 'Mss']:\n",
    "            return 'Miss'\n",
    "        elif t in ['Mms']:\n",
    "            return 'Mr'\n",
    "        else:\n",
    "            return t\n",
    "    return ''"
   ]
  },
  {
   "cell_type": "code",
   "execution_count": 23,
   "id": "fc963ed0-7660-4c85-954d-fd9aa9d7b7ee",
   "metadata": {},
   "outputs": [
    {
     "data": {
      "text/html": [
       "<style  type=\"text/css\" >\n",
       "#T_47d04_row0_col0{\n",
       "            width:  10em;\n",
       "             height:  80%;\n",
       "            background:  linear-gradient(90deg,blue 57.5%, transparent 57.5%);\n",
       "        }#T_47d04_row1_col0{\n",
       "            width:  10em;\n",
       "             height:  80%;\n",
       "            background:  linear-gradient(90deg,blue 70.1%, transparent 70.1%);\n",
       "        }#T_47d04_row2_col0,#T_47d04_row5_col0{\n",
       "            width:  10em;\n",
       "             height:  80%;\n",
       "            background:  linear-gradient(90deg,blue 100.0%, transparent 100.0%);\n",
       "        }#T_47d04_row3_col0{\n",
       "            width:  10em;\n",
       "             height:  80%;\n",
       "            background:  linear-gradient(90deg,blue 15.7%, transparent 15.7%);\n",
       "        }#T_47d04_row4_col0{\n",
       "            width:  10em;\n",
       "             height:  80%;\n",
       "            background:  linear-gradient(90deg,blue 79.2%, transparent 79.2%);\n",
       "        }#T_47d04_row6_col0{\n",
       "            width:  10em;\n",
       "             height:  80%;\n",
       "            background:  linear-gradient(90deg,blue 34.8%, transparent 34.8%);\n",
       "        }</style><table id=\"T_47d04_\" ><thead>    <tr>        <th class=\"blank level0\" ></th>        <th class=\"col_heading level0 col0\" >Survived</th>    </tr>    <tr>        <th class=\"index_name level0\" >Title</th>        <th class=\"blank\" ></th>    </tr></thead><tbody>\n",
       "                <tr>\n",
       "                        <th id=\"T_47d04_level0_row0\" class=\"row_heading level0 row0\" >Master</th>\n",
       "                        <td id=\"T_47d04_row0_col0\" class=\"data row0 col0\" >0.575000</td>\n",
       "            </tr>\n",
       "            <tr>\n",
       "                        <th id=\"T_47d04_level0_row1\" class=\"row_heading level0 row1\" >Miss</th>\n",
       "                        <td id=\"T_47d04_row1_col0\" class=\"data row1 col0\" >0.701087</td>\n",
       "            </tr>\n",
       "            <tr>\n",
       "                        <th id=\"T_47d04_level0_row2\" class=\"row_heading level0 row2\" >Mme</th>\n",
       "                        <td id=\"T_47d04_row2_col0\" class=\"data row2 col0\" >1.000000</td>\n",
       "            </tr>\n",
       "            <tr>\n",
       "                        <th id=\"T_47d04_level0_row3\" class=\"row_heading level0 row3\" >Mr</th>\n",
       "                        <td id=\"T_47d04_row3_col0\" class=\"data row3 col0\" >0.156673</td>\n",
       "            </tr>\n",
       "            <tr>\n",
       "                        <th id=\"T_47d04_level0_row4\" class=\"row_heading level0 row4\" >Mrs</th>\n",
       "                        <td id=\"T_47d04_row4_col0\" class=\"data row4 col0\" >0.792000</td>\n",
       "            </tr>\n",
       "            <tr>\n",
       "                        <th id=\"T_47d04_level0_row5\" class=\"row_heading level0 row5\" >Ms</th>\n",
       "                        <td id=\"T_47d04_row5_col0\" class=\"data row5 col0\" >1.000000</td>\n",
       "            </tr>\n",
       "            <tr>\n",
       "                        <th id=\"T_47d04_level0_row6\" class=\"row_heading level0 row6\" >Rare</th>\n",
       "                        <td id=\"T_47d04_row6_col0\" class=\"data row6 col0\" >0.347826</td>\n",
       "            </tr>\n",
       "    </tbody></table>"
      ],
      "text/plain": [
       "<pandas.io.formats.style.Styler at 0x12a3a49a0>"
      ]
     },
     "execution_count": 23,
     "metadata": {},
     "output_type": "execute_result"
    }
   ],
   "source": [
    "train_df['Title'] = train_df['Name'].apply(get_title)\n",
    "test_df['Title'] = test_df['Name'].apply(get_title)\n",
    "train_df[['Survived', 'Title']].groupby('Title').mean().style.bar(color=['blue'], axis=0, align='mid')"
   ]
  },
  {
   "cell_type": "code",
   "execution_count": 24,
   "id": "896b1d30-77a2-45c8-802d-7943a1ee7f6c",
   "metadata": {},
   "outputs": [
    {
     "name": "stdout",
     "output_type": "stream",
     "text": [
      "0 0\n"
     ]
    }
   ],
   "source": [
    "print(train_df['Title'].isnull().sum(), test_df['Title'].isnull().sum())"
   ]
  },
  {
   "cell_type": "code",
   "execution_count": 25,
   "id": "58e4665e-3337-4fc7-9404-3ae6e0d8dea3",
   "metadata": {},
   "outputs": [],
   "source": [
    "train_df['SexCategory'] = train_df['Sex'].map({'female': 0, 'male': 1}).astype(int)\n",
    "test_df['SexCategory'] = test_df['Sex'].map({'female': 0, 'male': 1}).astype(int)"
   ]
  },
  {
   "cell_type": "code",
   "execution_count": 26,
   "id": "f4306354-fc98-4aa2-87ee-8d5388bf3201",
   "metadata": {},
   "outputs": [],
   "source": [
    "title_mapping = {'Mr': 1, 'Miss': 2, 'Mrs': 3, 'Master': 4, 'Rare': 5}\n",
    "\n",
    "train_df['Title'] = train_df['Title'].map(title_mapping)\n",
    "train_df['Title'] = train_df['Title'].fillna(0)\n",
    "\n",
    "test_df['Title'] = test_df['Title'].map(title_mapping)\n",
    "test_df['Title'] = test_df['Title'].fillna(0)"
   ]
  },
  {
   "cell_type": "code",
   "execution_count": 27,
   "id": "f0f7ccca-5be5-412d-a6c8-a7fa51ce6669",
   "metadata": {},
   "outputs": [],
   "source": [
    "train_df['Embarked'] = train_df['Embarked'].map( {'S': 0, 'C': 1, 'Q': 2} ).astype(int)\n",
    "test_df['Embarked'] = test_df['Embarked'].map( {'S': 0, 'C': 1, 'Q': 2} ).astype(int)"
   ]
  },
  {
   "cell_type": "code",
   "execution_count": 89,
   "id": "e75a1306-a216-414e-8f22-92c6d36b4ca9",
   "metadata": {},
   "outputs": [],
   "source": [
    "train_df['CategoricalFare'] = train_df['CategoricalFare'].astype(int)\n",
    "test_df['CategoricalFare'] = test_df['CategoricalFare'].astype(int)"
   ]
  },
  {
   "cell_type": "code",
   "execution_count": 90,
   "id": "3cbaefce-fc72-4b94-bf91-9796f4b8f2b8",
   "metadata": {},
   "outputs": [],
   "source": [
    "train_df['CategoricalAge'] = train_df['CategoricalAge'].astype(int)\n",
    "test_df['CategoricalAge'] = test_df['CategoricalAge'].astype(int)"
   ]
  },
  {
   "cell_type": "code",
   "execution_count": 91,
   "id": "cf1ebca6-3968-4f77-833c-3772d41e1622",
   "metadata": {},
   "outputs": [
    {
     "name": "stdout",
     "output_type": "stream",
     "text": [
      "<class 'pandas.core.frame.DataFrame'>\n",
      "RangeIndex: 891 entries, 0 to 890\n",
      "Data columns (total 11 columns):\n",
      " #   Column           Non-Null Count  Dtype  \n",
      "---  ------           --------------  -----  \n",
      " 0   Survived         891 non-null    int64  \n",
      " 1   Pclass           891 non-null    int64  \n",
      " 2   Age              891 non-null    int64  \n",
      " 3   Fare             891 non-null    float64\n",
      " 4   Embarked         891 non-null    int64  \n",
      " 5   FamilySize       891 non-null    int64  \n",
      " 6   IsAlone          891 non-null    int64  \n",
      " 7   CategoricalFare  891 non-null    int64  \n",
      " 8   CategoricalAge   891 non-null    int64  \n",
      " 9   Title            891 non-null    float64\n",
      " 10  SexCategory      891 non-null    int64  \n",
      "dtypes: float64(2), int64(9)\n",
      "memory usage: 76.7 KB\n",
      "None\n"
     ]
    }
   ],
   "source": [
    "train_df_ready = train_df.copy()\n",
    "test_df_ready = test_df.copy()\n",
    "\n",
    "drop_elements = ['PassengerId', 'Name', 'Ticket', 'Cabin', 'SibSp', 'Parch', 'Sex']\n",
    "train_df_ready.drop(drop_elements, axis=1, inplace=True)\n",
    "test_df_ready.drop(drop_elements, axis=1, inplace=True)\n",
    "\n",
    "print(train_df_ready.info())"
   ]
  },
  {
   "cell_type": "code",
   "execution_count": 98,
   "id": "3f3f86b5-f7ec-41ec-ba2e-5750c9e8fca1",
   "metadata": {},
   "outputs": [
    {
     "data": {
      "text/html": [
       "<div>\n",
       "<style scoped>\n",
       "    .dataframe tbody tr th:only-of-type {\n",
       "        vertical-align: middle;\n",
       "    }\n",
       "\n",
       "    .dataframe tbody tr th {\n",
       "        vertical-align: top;\n",
       "    }\n",
       "\n",
       "    .dataframe thead th {\n",
       "        text-align: right;\n",
       "    }\n",
       "</style>\n",
       "<table border=\"1\" class=\"dataframe\">\n",
       "  <thead>\n",
       "    <tr style=\"text-align: right;\">\n",
       "      <th></th>\n",
       "      <th>Classifier</th>\n",
       "      <th>Accuracy</th>\n",
       "    </tr>\n",
       "  </thead>\n",
       "  <tbody>\n",
       "    <tr>\n",
       "      <th>0</th>\n",
       "      <td>KNeighborsClassifier</td>\n",
       "      <td>0.810000</td>\n",
       "    </tr>\n",
       "    <tr>\n",
       "      <th>0</th>\n",
       "      <td>SVC</td>\n",
       "      <td>0.828889</td>\n",
       "    </tr>\n",
       "    <tr>\n",
       "      <th>0</th>\n",
       "      <td>DecisionTreeClassifier</td>\n",
       "      <td>0.821111</td>\n",
       "    </tr>\n",
       "    <tr>\n",
       "      <th>0</th>\n",
       "      <td>RandomForestClassifier</td>\n",
       "      <td>0.828889</td>\n",
       "    </tr>\n",
       "    <tr>\n",
       "      <th>0</th>\n",
       "      <td>AdaBoostClassifier</td>\n",
       "      <td>0.823333</td>\n",
       "    </tr>\n",
       "    <tr>\n",
       "      <th>0</th>\n",
       "      <td>GradientBoostingClassifier</td>\n",
       "      <td>0.810000</td>\n",
       "    </tr>\n",
       "    <tr>\n",
       "      <th>0</th>\n",
       "      <td>GaussianNB</td>\n",
       "      <td>0.784444</td>\n",
       "    </tr>\n",
       "    <tr>\n",
       "      <th>0</th>\n",
       "      <td>LinearDiscriminantAnalysis</td>\n",
       "      <td>0.806667</td>\n",
       "    </tr>\n",
       "    <tr>\n",
       "      <th>0</th>\n",
       "      <td>QuadraticDiscriminantAnalysis</td>\n",
       "      <td>0.811111</td>\n",
       "    </tr>\n",
       "    <tr>\n",
       "      <th>0</th>\n",
       "      <td>LogisticRegression</td>\n",
       "      <td>0.803333</td>\n",
       "    </tr>\n",
       "  </tbody>\n",
       "</table>\n",
       "</div>"
      ],
      "text/plain": [
       "                      Classifier  Accuracy\n",
       "0           KNeighborsClassifier  0.810000\n",
       "0                            SVC  0.828889\n",
       "0         DecisionTreeClassifier  0.821111\n",
       "0         RandomForestClassifier  0.828889\n",
       "0             AdaBoostClassifier  0.823333\n",
       "0     GradientBoostingClassifier  0.810000\n",
       "0                     GaussianNB  0.784444\n",
       "0     LinearDiscriminantAnalysis  0.806667\n",
       "0  QuadraticDiscriminantAnalysis  0.811111\n",
       "0             LogisticRegression  0.803333"
      ]
     },
     "metadata": {},
     "output_type": "display_data"
    },
    {
     "data": {
      "image/png": "[encoded data removed]",
      "text/plain": [
       "<Figure size 432x288 with 1 Axes>"
      ]
     },
     "metadata": {
      "needs_background": "light"
     },
     "output_type": "display_data"
    }
   ],
   "source": [
    "import seaborn as sns\n",
    "\n",
    "from sklearn.model_selection import StratifiedShuffleSplit\n",
    "from sklearn.metrics import accuracy_score, log_loss\n",
    "from sklearn.neighbors import KNeighborsClassifier\n",
    "from sklearn.svm import SVC\n",
    "from sklearn.tree import DecisionTreeClassifier\n",
    "from sklearn.ensemble import RandomForestClassifier, AdaBoostClassifier, GradientBoostingClassifier\n",
    "from sklearn.naive_bayes import GaussianNB\n",
    "from sklearn.discriminant_analysis import LinearDiscriminantAnalysis, QuadraticDiscriminantAnalysis\n",
    "from sklearn.linear_model import LogisticRegression\n",
    "\n",
    "classifiers = [\n",
    "    KNeighborsClassifier(3),\n",
    "    SVC(probability=True),\n",
    "    DecisionTreeClassifier(),\n",
    "    RandomForestClassifier(),\n",
    "    AdaBoostClassifier(),\n",
    "    GradientBoostingClassifier(),\n",
    "    GaussianNB(),\n",
    "    LinearDiscriminantAnalysis(),\n",
    "    QuadraticDiscriminantAnalysis(),\n",
    "    LogisticRegression(max_iter=1000)\n",
    "]\n",
    "\n",
    "log_cols = ['Classifier', 'Accuracy']\n",
    "log = pd.DataFrame(columns=log_cols)\n",
    "\n",
    "sss = StratifiedShuffleSplit(n_splits=10, test_size=0.1, random_state=0)\n",
    "\n",
    "features = [\n",
    "    'Pclass',\n",
    "    'Embarked',\n",
    "    'FamilySize',\n",
    "    'IsAlone',\n",
    "    'CategoricalFare',\n",
    "    'CategoricalAge',\n",
    "    'Title',\n",
    "    'SexCategory'\n",
    "]\n",
    "\n",
    "X = train_df_ready[features].values\n",
    "y = train_df_ready['Survived'].values\n",
    "\n",
    "acc_dict = {}\n",
    "\n",
    "for train_index, test_index in sss.split(X, y):\n",
    "    X_train, X_test = X[train_index], X[test_index]\n",
    "    y_train, y_test = y[train_index], y[test_index]\n",
    "    \n",
    "    for clf in classifiers:\n",
    "        name = clf.__class__.__name__\n",
    "        clf.fit(X_train, y_train)\n",
    "        train_predictions = clf.predict(X_test)\n",
    "        acc = accuracy_score(y_test, train_predictions)\n",
    "        if name in acc_dict:\n",
    "            acc_dict[name] += acc\n",
    "        else:\n",
    "            acc_dict[name] = acc\n",
    "\n",
    "for clf in acc_dict:\n",
    "    acc_dict[clf] = acc_dict[clf] / 10.0\n",
    "    log_entry = pd.DataFrame([[clf, acc_dict[clf]]], columns=log_cols)\n",
    "    log = log.append(log_entry)\n",
    "\n",
    "plt.xlabel('Accuracy')\n",
    "plt.title('Classifier Accuracy')\n",
    "\n",
    "sns.set_color_codes(\"muted\")\n",
    "sns.barplot(x='Accuracy', y='Classifier', data=log, color=\"b\")\n",
    "display(log)\n",
    "# 0.840000"
   ]
  },
  {
   "cell_type": "code",
   "execution_count": 93,
   "id": "382036c9-c8e0-4e07-b6b2-a93c8379bb12",
   "metadata": {},
   "outputs": [],
   "source": [
    "candidate_classifier = RandomForestClassifier()\n",
    "candidate_classifier.fit(X, y)\n",
    "result = candidate_classifier.predict(test_df_ready[features])"
   ]
  },
  {
   "cell_type": "code",
   "execution_count": 94,
   "id": "ba754748-1ca8-4c7a-8aaf-c304ff7229b8",
   "metadata": {},
   "outputs": [
    {
     "name": "stdout",
     "output_type": "stream",
     "text": [
      "(418, 1) (418, 10)\n"
     ]
    }
   ],
   "source": [
    "result_df = pd.DataFrame(result)\n",
    "print(result_df.shape, test_df_ready.shape)"
   ]
  },
  {
   "cell_type": "code",
   "execution_count": 95,
   "id": "dc296f6e-9f1a-476e-b885-f34a9de8632d",
   "metadata": {},
   "outputs": [],
   "source": [
    "submission = pd.DataFrame({\n",
    "    'PassengerId': test_df['PassengerId'],\n",
    "    'Survived': result\n",
    "})"
   ]
  },
  {
   "cell_type": "code",
   "execution_count": 96,
   "id": "f7dc4388-1be0-4de6-abcb-6376d80e9822",
   "metadata": {},
   "outputs": [],
   "source": [
    "submission.to_csv('./inputdata/submission.csv', index=False)"
   ]
  }
 ],
 "metadata": {
  "kernelspec": {
   "display_name": "Python 3",
   "language": "python",
   "name": "python3"
  },
  "language_info": {
   "codemirror_mode": {
    "name": "ipython",
    "version": 3
   },
   "file_extension": ".py",
   "mimetype": "text/x-python",
   "name": "python",
   "nbconvert_exporter": "python",
   "pygments_lexer": "ipython3",
   "version": "3.9.2"
  }
 },
 "nbformat": 4,
 "nbformat_minor": 5
}
